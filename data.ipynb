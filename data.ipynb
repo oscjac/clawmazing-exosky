{
 "cells": [
  {
   "cell_type": "code",
   "execution_count": null,
   "metadata": {},
   "outputs": [],
   "source": [
    "# Load files\n",
    "from json import load\n",
    "\n",
    "FILES = [\"./public/solar_systems.json\", \"./public/habitable_worlds.json\"]\n",
    "\n",
    "with open(FILES[0], \"r\") as f:\n",
    "    solar_systems = load(f)\n",
    "\n",
    "with open(FILES[1], \"r\") as f:\n",
    "    habitable_worlds = load(f)"
   ]
  },
  {
   "cell_type": "code",
   "execution_count": null,
   "metadata": {},
   "outputs": [],
   "source": [
    "for system in solar_systems:\n",
    "    system[\"habitable_worlds\"] = []\n"
   ]
  }
 ],
 "metadata": {
  "kernelspec": {
   "display_name": "exposky-server",
   "language": "python",
   "name": "python3"
  },
  "language_info": {
   "name": "python",
   "version": "3.11.10"
  }
 },
 "nbformat": 4,
 "nbformat_minor": 2
}
